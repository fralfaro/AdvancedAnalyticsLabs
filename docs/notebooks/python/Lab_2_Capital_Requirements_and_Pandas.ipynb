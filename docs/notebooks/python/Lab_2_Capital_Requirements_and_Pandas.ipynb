{
 "cells": [
  {
   "cell_type": "markdown",
   "metadata": {
    "colab_type": "text",
    "id": "view-in-github"
   },
   "source": [
    "<a href=\"https://colab.research.google.com/github/fralfaro/AdvancedAnalyticsLabs/blob/master/docs/notebooks/python/Lab_2_Capital_Requirements_and_Pandas.ipynb\" target=\"_parent\"><img src=\"https://colab.research.google.com/assets/colab-badge.svg\" alt=\"Open In Colab\"/></a>"
   ]
  },
  {
   "cell_type": "markdown",
   "metadata": {
    "id": "lg7bCCwd0bHd"
   },
   "source": [
    "# Capital Requirements and Pandas\n",
    "\n",
    "## Reading the data\n",
    "\n",
    "For this exercise we will read a dataset from credit scoring. I previously uploaded the data to Google, and it is available at https://docs.google.com/spreadsheets/d/1Am74y2ZVQ6dRFYVZUv_VoyP-OTS8BM4x0svifHQvtNc/export?gid=819627738&format=csv\n",
    "\n",
    "The dataset (called **Bankloan**, from IBM) has a set of 1,000 loans with default information. It includes the following variables:\n",
    "\n",
    "- Customer: ID, or unique label, of the borrower (NOT predictive).\n",
    "- Age: Age of the borrower in years.\n",
    "- Education: Maximum education level the borrower reached.\n",
    "1: Complete primary. 2: Completed Secondary. 3: Incomplete Higher Ed. 4: Complete Higher Ed. 5: With postgraduate studies (complete MSc or PhD).\n",
    "- Employ: Years at current job.\n",
    "- Address: Years at current address.\n",
    "- Income: Income in ‘000s USD.\n",
    "- Leverage: Debt/Income Ratio.\n",
    "- CredDebt: Credit card standing debt.\n",
    "- OthDebt: Other debt in ‘000s USD.\n",
    "- MonthlyLoad: Monthly percentage from salary used to repay debts.\n",
    "- Default: 1 If default has occurred, 0 if not (Target variable).\n",
    "- PD: The calibrated probability of default of the loan.\n",
    "- LGD: The estimated LGD for the loan.\n",
    "- Outstanding: EAD.\n",
    "\n",
    "goal:whether the loan is going to default or not"
   ]
  },
  {
   "cell_type": "code",
   "execution_count": null,
   "metadata": {
    "id": "Fp2he3jP0acB"
   },
   "outputs": [],
   "source": [
    "!gdown https://drive.google.com/uc?id=1lyEd01JaoVbL1mbgn-wr3YvLmURAgQ8B"
   ]
  },
  {
   "cell_type": "code",
   "execution_count": null,
   "metadata": {
    "id": "HO8ZUMz1Mzf0"
   },
   "outputs": [],
   "source": [
    "!head /content/bankloan_scored_nodefault.csv"
   ]
  },
  {
   "cell_type": "code",
   "execution_count": null,
   "metadata": {
    "id": "h-P17DdYM-40"
   },
   "outputs": [],
   "source": [
    "import pandas as pd\n",
    "import numpy as np"
   ]
  },
  {
   "cell_type": "code",
   "execution_count": null,
   "metadata": {
    "id": "djm2FGO3AjyR"
   },
   "outputs": [],
   "source": [
    "!pip install scorecardpy"
   ]
  },
  {
   "cell_type": "code",
   "execution_count": null,
   "metadata": {
    "id": "0yg6tQqrAr-h"
   },
   "outputs": [],
   "source": [
    "import scorecardpy as scp"
   ]
  },
  {
   "cell_type": "code",
   "execution_count": null,
   "metadata": {
    "id": "hqPM4W2VxYZ1"
   },
   "outputs": [],
   "source": [
    "bankloan_data = pd.read_csv('/content/bankloan_scored_nodefault.csv')"
   ]
  },
  {
   "cell_type": "code",
   "execution_count": null,
   "metadata": {
    "id": "nAh6m2j0a9LJ"
   },
   "outputs": [],
   "source": [
    "bankloan_data.head()"
   ]
  },
  {
   "cell_type": "code",
   "execution_count": null,
   "metadata": {
    "id": "pjY06WDPNFWN"
   },
   "outputs": [],
   "source": [
    "bankloan_data.dtypes"
   ]
  },
  {
   "cell_type": "markdown",
   "metadata": {
    "id": "EPZ8Ol9SNHrR"
   },
   "source": [
    "summary statistics of the numerical variables"
   ]
  },
  {
   "cell_type": "code",
   "execution_count": null,
   "metadata": {
    "id": "uluQVPhLNK2q"
   },
   "outputs": [],
   "source": [
    "bankloan_data.describe()"
   ]
  },
  {
   "cell_type": "markdown",
   "metadata": {
    "id": "g13R0-vQNO_a"
   },
   "source": [
    " plot the histograms of the variables"
   ]
  },
  {
   "cell_type": "code",
   "execution_count": null,
   "metadata": {
    "id": "d1sqyXdANQDa"
   },
   "outputs": [],
   "source": [
    "import matplotlib.pyplot as plt\n",
    "%matplotlib inline"
   ]
  },
  {
   "cell_type": "code",
   "execution_count": null,
   "metadata": {
    "id": "R_opsrRVNTD2"
   },
   "outputs": [],
   "source": [
    "histograms = bankloan_data.hist()"
   ]
  },
  {
   "cell_type": "code",
   "execution_count": null,
   "metadata": {
    "id": "XKj1LjVR0H9A"
   },
   "outputs": [],
   "source": [
    "bankloan_data.loc[bankloan_data.loc[:, 'Age'] < 37, :]"
   ]
  },
  {
   "cell_type": "code",
   "execution_count": null,
   "metadata": {
    "id": "1p-ktEfzb7iB"
   },
   "outputs": [],
   "source": [
    "bankloan_data.iloc[0:5, 1:2]"
   ]
  },
  {
   "cell_type": "code",
   "execution_count": null,
   "metadata": {
    "id": "lvoO_TfRNcSS"
   },
   "outputs": [],
   "source": [
    "import seaborn as sns\n",
    "import numpy as np"
   ]
  },
  {
   "cell_type": "code",
   "execution_count": null,
   "metadata": {
    "id": "rdiV2Gc9NeAG"
   },
   "outputs": [],
   "source": [
    "sns.set(color_codes=True)\n",
    "sns.pairplot(bankloan_data)\n",
    "plt.savefig('Hist.pdf')\n",
    "plt.savefig('Hist.jpg')\n",
    "plt.show()"
   ]
  },
  {
   "cell_type": "markdown",
   "metadata": {
    "id": "NpaRoXKD3x3b"
   },
   "source": [
    "## Basel III Capital Requirements\n",
    "\n",
    "Recalling the last lecture, the equation for the capital requirement of any operation is:\n",
    "\n",
    "$$\n",
    "K = LGD \\cdot \\left\\{ N\\left( \\sqrt{\\frac{1}{1-R}} \\cdot N^{-1}(PD) + \\sqrt{\\frac{R}{1-R}} \\cdot N^{-1}(0.999) \\right) - PD \\right\\} \\left( \\frac{1 + (M - 2.5)b}{1 - 1.5b}\\right)\n",
    "$$\n",
    "\n",
    "The values of $b$ and $M$ will be variable for bonds, but for retail and mortgages the maturity is fixed at 1, and the b term dissapears. The correlations are given by the regulation:\n",
    "\n",
    "- Mortgages: $R = 0.15$\n",
    "- Revolving: $R = 0.04$\n",
    "- Other retail: $R = 0.03 \\left( \\frac{1 - e^{-35PD}}{1 - e^{-35}} \\right) + 0.16 \\left( 1 - \\frac{1 - e^{-35PD}}{1 - e^{-35}} \\right)$\n",
    "- Corporate and sovereign exposures $ R = 0.12 \\left( \\frac{1 - e^{-50PD}}{1 - e^{-50}} \\right) + 0.24 \\left( 1 - \\frac{1 - e^{-50PD}}{1 - e^{-50}} \\right)$\n",
    "\n"
   ]
  },
  {
   "cell_type": "code",
   "execution_count": null,
   "metadata": {
    "id": "W_fu2Owu9Gtq"
   },
   "outputs": [],
   "source": [
    "#Other retail\n",
    "def capital_requirement_retail(PD, LGD):\n",
    "  import numpy as np\n",
    "  from scipy.stats import norm\n",
    "  # Check if PD satisfies floor\n",
    "  if PD < 0.0003:\n",
    "    PD = 0.0003\n",
    "  # First part of the equation, lower correlation\n",
    "  R =  0.03 * ( (1 - np.exp(-35 * PD)) / (1 - np.exp(-35)) )\n",
    "  # Second part of the equation, higher correlation\n",
    "  R += 0.16 * (1 - ( (1 - np.exp(-35 * PD)) / (1 - np.exp(-35)) ) )\n",
    "  # Now we can calculate the capital\n",
    "  K = norm.cdf(np.sqrt( (1 - R) ** (-1) ) * norm.ppf(PD) +\n",
    "               np.sqrt( R / (1 - R) ) * norm.ppf(0.999) ) - PD\n",
    "  K *= LGD\n",
    "  return(K)"
   ]
  },
  {
   "cell_type": "code",
   "execution_count": null,
   "metadata": {
    "id": "znRZuAgFLlot"
   },
   "outputs": [],
   "source": [
    "capital_requirement_retail(0.5, 0.5)"
   ]
  },
  {
   "cell_type": "markdown",
   "metadata": {
    "id": "5-Eu9y0rKq9j"
   },
   "source": [
    "Or we can print it in a nicer format using a [f-string](https://statics.teams.cdn.office.net/evergreen-assets/safelinks/1/atp-safelinks.html)."
   ]
  },
  {
   "cell_type": "code",
   "execution_count": null,
   "metadata": {
    "id": "L0UdCTHKLsbR"
   },
   "outputs": [],
   "source": [
    "print(f'PD = 0.5 & LGD = 0.5. K = {capital_requirement_retail(0.5, 0.5):.3f}')"
   ]
  },
  {
   "cell_type": "code",
   "execution_count": null,
   "metadata": {
    "id": "EXczxRiABF5o"
   },
   "outputs": [],
   "source": [
    "Xseries = np.arange(0, 1, 0.001)\n",
    "LGD = 1\n",
    "Yseries = [capital_requirement_retail(x, LGD) for x in Xseries]\n",
    "plt.plot(Xseries, Yseries)\n",
    "plt.title('PD curve at LGD = 1')\n",
    "plt.xlabel('PD')\n",
    "plt.ylabel('Capital Req. %')\n",
    "plt.show()"
   ]
  },
  {
   "cell_type": "markdown",
   "metadata": {
    "id": "JBL_uW0oLMeU"
   },
   "source": [
    "Now, let's apply the result to the full dataset. For this, we need a [lambda function](https://www.w3schools.com/python/python_lambda.asp) that will map the vector inputs to the function inputs."
   ]
  },
  {
   "cell_type": "code",
   "execution_count": null,
   "metadata": {
    "id": "lwNbnu-dE3uP"
   },
   "outputs": [],
   "source": [
    "bankloan_data['CapitalReq'] = bankloan_data.apply(lambda x : capital_requirement_retail(x['PD'], x['LGD']), axis = 1)"
   ]
  },
  {
   "cell_type": "code",
   "execution_count": null,
   "metadata": {
    "id": "8hIlKDqLeYhF"
   },
   "outputs": [],
   "source": [
    "bankloan_data['CapitalReq']"
   ]
  },
  {
   "cell_type": "markdown",
   "metadata": {
    "id": "6UaI2ZlYLeRj"
   },
   "source": [
    "And now we can plot the distribution using Seaborn. The distplot function does this and adds the KDE."
   ]
  },
  {
   "cell_type": "code",
   "execution_count": null,
   "metadata": {
    "id": "Xxf5cWTVR3jP"
   },
   "outputs": [],
   "source": [
    "sns.displot(bankloan_data['CapitalReq'], kde=True)\n",
    "plt.show()"
   ]
  },
  {
   "cell_type": "markdown",
   "metadata": {
    "id": "14A51czTSKet"
   },
   "source": [
    "And we can finally calculate the maximum Risk Weighted Asset (RWA) value that would be required to cover these instruments. Assuming a factor $F = 8\\%$, remember that:\n",
    "\n",
    "$$\n",
    "RWA = \\frac{1}{F} * K * EAD\n",
    "$$\n",
    "\n",
    "in retail lending the Exposure at Default is equal to the outstanding amount, leading to:"
   ]
  },
  {
   "cell_type": "code",
   "execution_count": null,
   "metadata": {
    "id": "StQaz_o5SdP4"
   },
   "outputs": [],
   "source": [
    "RWA = (1 / 0.08) * np.dot(bankloan_data['CapitalReq'], bankloan_data['Outstanding'])\n",
    "RWA"
   ]
  },
  {
   "cell_type": "markdown",
   "metadata": {
    "id": "Nh_dpo2vTtbF"
   },
   "source": [
    "Every bank will have a different factor of the RWA which it must conserve. This will depend on its own characteristics. If, for example, the bank had a 12% requirement, then its (total) regulatory capital would be equal to:"
   ]
  },
  {
   "cell_type": "code",
   "execution_count": null,
   "metadata": {
    "id": "afkmkLclT7tO"
   },
   "outputs": [],
   "source": [
    "RWA = (1 / 0.12) * np.dot(bankloan_data['CapitalReq'], bankloan_data['Outstanding'])\n",
    "\n",
    "\n",
    "# To format money correctly\n",
    "import locale\n",
    "locale.setlocale( locale.LC_ALL, '' )\n",
    "\n",
    "# Display\n",
    "out = locale.currency( RWA, grouping=True )\n",
    "print('The maximum value for the RWA at a 12% capital requirement is equal to ' + out)"
   ]
  },
  {
   "cell_type": "markdown",
   "metadata": {
    "id": "CoKMc5oRC5vm"
   },
   "source": [
    "However, Basel says that the RWA per business line is 12.5 times the capital requirement (i.e. it does not adjust by the bank's own load), so the 12.5 factor is the correct value to use when calculating the RWA of the line."
   ]
  },
  {
   "cell_type": "code",
   "execution_count": null,
   "metadata": {
    "id": "8z25GuXoeUD_"
   },
   "outputs": [],
   "source": []
  }
 ],
 "metadata": {
  "colab": {
   "include_colab_link": true,
   "provenance": []
  },
  "kernelspec": {
   "display_name": "Python 3 (ipykernel)",
   "language": "python",
   "name": "python3"
  },
  "language_info": {
   "codemirror_mode": {
    "name": "ipython",
    "version": 3
   },
   "file_extension": ".py",
   "mimetype": "text/x-python",
   "name": "python",
   "nbconvert_exporter": "python",
   "pygments_lexer": "ipython3",
   "version": "3.8.10"
  },
  "nbTranslate": {
   "displayLangs": [
    "*"
   ],
   "hotkey": "alt-t",
   "langInMainMenu": true,
   "sourceLang": "en",
   "targetLang": "fr",
   "useGoogleTranslate": true
  }
 },
 "nbformat": 4,
 "nbformat_minor": 1
}
